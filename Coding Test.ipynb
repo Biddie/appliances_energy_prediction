{
 "cells": [
  {
   "cell_type": "markdown",
   "id": "03a095f9",
   "metadata": {},
   "source": [
    "# Coding Test"
   ]
  },
  {
   "cell_type": "code",
   "execution_count": 12,
   "id": "6873b269",
   "metadata": {},
   "outputs": [],
   "source": [
    "import pandas as pd\n",
    "import numpy as np"
   ]
  },
  {
   "cell_type": "code",
   "execution_count": 13,
   "id": "a530cbe5",
   "metadata": {},
   "outputs": [],
   "source": [
    "#3. Extract `coldesc` from the json payload sample and convert its value to a Pandas DataFrame.\n",
    "\n",
    "json_payload = {\n",
    "\t\"rowset\":\t{\n",
    "\t\t\"osname\":\t\"NCOMS\",\n",
    "\t\t\"dbname\":\t\"alerts\",\n",
    "\t\t\"tblname\":\t\"status\",\n",
    "\t\t\"coldesc\":\t[{\n",
    "\t\t\t\t\"name\": \"Identifier\",\n",
    "\t\t\t\t\"type\": \"string\",\n",
    "\t\t\t\t\"size\": 255\n",
    "\t\t\t}, {\n",
    "\t\t\t\t\"name\": \"Serial\",\n",
    "\t\t\t\t\"type\": \"integer\",\n",
    "\t\t\t\t\"size\": 4\n",
    "\t\t\t}, {\n",
    "\t\t\t\t\"name\": \"Node\",\n",
    "\t\t\t\t\"type\": \"string\",\n",
    "\t\t\t\t\"size\": 64\n",
    "\t\t\t}, {\n",
    "\t\t\t\t\"name\": \"NodeAlias\",\n",
    "\t\t\t\t\"type\": \"string\",\n",
    "\t\t\t\t\"size\": 64\n",
    "\t\t\t}, {\n",
    "\t\t\t\t\"name\": \"AlertKey\",\n",
    "\t\t\t\t\"type\": \"string\",\n",
    "\t\t\t\t\"size\": 255\n",
    "\t\t\t}, {\n",
    "\t\t\t\t\"name\": \"Severity\",\n",
    "\t\t\t\t\"type\": \"integer\",\n",
    "\t\t\t\t\"size\": 4\n",
    "\t\t\t}, {\n",
    "\t\t\t\t\"name\": \"Summary\",\n",
    "\t\t\t\t\"type\": \"string\",\n",
    "\t\t\t\t\"size\": 255\n",
    "\t\t\t}, {\n",
    "\t\t\t\t\"name\": \"StateChange\",\n",
    "\t\t\t\t\"type\": \"utc\",\n",
    "\t\t\t\t\"size\": 4\n",
    "\t\t\t}, {\n",
    "\t\t\t\t\"name\": \"FirstOccurrence\",\n",
    "\t\t\t\t\"type\": \"utc\",\n",
    "\t\t\t\t\"size\": 4\n",
    "\t\t\t}, {\n",
    "\t\t\t\t\"name\": \"LastOccurrence\",\n",
    "\t\t\t\t\"type\": \"utc\",\n",
    "\t\t\t\t\"size\": 4\n",
    "\t\t\t}, {\n",
    "\t\t\t\t\"name\": \"RowSerial\",\n",
    "\t\t\t\t\"type\": \"integer\",\n",
    "\t\t\t\t\"size\": 4\n",
    "\t\t\t}],\n",
    "\t\t\"rows\":\t\t[{\n",
    "\t\t\t\t\"Identifier\": \"Startup@sol9-build1\",\n",
    "\t\t\t\t\"Serial\": 12469,\n",
    "\t\t\t\t\"Node\": \"sol9-build1\",\n",
    "\t\t\t\t\"NodeAlias\": \"\",\n",
    "\t\t\t\t\"AlertKey\": \"\",\n",
    "\t\t\t\t\"Severity\": 0,\n",
    "\t\t\t\t\"Summary\": \"ObjectServer NCOMS on sol9-build1 started at Wed Jul 04 15:27:57 2012\",\n",
    "\t\t\t\t\"StateChange\": 1341412082,\n",
    "\t\t\t\t\"FirstOccurrence\": 1341411978,\n",
    "\t\t\t\t\"LastOccurrence\": 1341412077,\n",
    "\t\t\t\t\"RowSerial\": 12469\n",
    "\t\t\t}, {\n",
    "\t\t\t\t\"Identifier\": \"ProfilerEnableToggle@NCOMS:sol9-build1\",\n",
    "\t\t\t\t\"Serial\": 12468,\n",
    "\t\t\t\t\"Node\": \"sol9-build1\",\n",
    "\t\t\t\t\"NodeAlias\": \"\",\n",
    "\t\t\t\t\"AlertKey\": \"\",\n",
    "\t\t\t\t\"Severity\": 0,\n",
    "\t\t\t\t\"Summary\": \"ObjectServer NCOMS Profiler enabled at Wed Jul 04 15:27:56 2012\",\n",
    "\t\t\t\t\"StateChange\": 1341412077,\n",
    "\t\t\t\t\"FirstOccurrence\": 1341411976,\n",
    "\t\t\t\t\"LastOccurrence\": 1341412076,\n",
    "\t\t\t\t\"RowSerial\": 12468\n",
    "\t\t\t}, {\n",
    "\t\t\t\t\"Identifier\": \"Shutdown@sol9-build1\",\n",
    "\t\t\t\t\"RowSerial\": 12519\n",
    "\t\t\t}],\n",
    "\t\t\"affectedRows\": 13\n",
    "\t}\n",
    "}"
   ]
  },
  {
   "cell_type": "code",
   "execution_count": 14,
   "id": "3c2b5b1d",
   "metadata": {},
   "outputs": [
    {
     "data": {
      "text/plain": [
       "dict_keys(['rowset'])"
      ]
     },
     "execution_count": 14,
     "metadata": {},
     "output_type": "execute_result"
    }
   ],
   "source": [
    "json_payload.keys()"
   ]
  },
  {
   "cell_type": "code",
   "execution_count": 15,
   "id": "a0273945",
   "metadata": {},
   "outputs": [
    {
     "data": {
      "text/plain": [
       "{'osname': 'NCOMS',\n",
       " 'dbname': 'alerts',\n",
       " 'tblname': 'status',\n",
       " 'coldesc': [{'name': 'Identifier', 'type': 'string', 'size': 255},\n",
       "  {'name': 'Serial', 'type': 'integer', 'size': 4},\n",
       "  {'name': 'Node', 'type': 'string', 'size': 64},\n",
       "  {'name': 'NodeAlias', 'type': 'string', 'size': 64},\n",
       "  {'name': 'AlertKey', 'type': 'string', 'size': 255},\n",
       "  {'name': 'Severity', 'type': 'integer', 'size': 4},\n",
       "  {'name': 'Summary', 'type': 'string', 'size': 255},\n",
       "  {'name': 'StateChange', 'type': 'utc', 'size': 4},\n",
       "  {'name': 'FirstOccurrence', 'type': 'utc', 'size': 4},\n",
       "  {'name': 'LastOccurrence', 'type': 'utc', 'size': 4},\n",
       "  {'name': 'RowSerial', 'type': 'integer', 'size': 4}],\n",
       " 'rows': [{'Identifier': 'Startup@sol9-build1',\n",
       "   'Serial': 12469,\n",
       "   'Node': 'sol9-build1',\n",
       "   'NodeAlias': '',\n",
       "   'AlertKey': '',\n",
       "   'Severity': 0,\n",
       "   'Summary': 'ObjectServer NCOMS on sol9-build1 started at Wed Jul 04 15:27:57 2012',\n",
       "   'StateChange': 1341412082,\n",
       "   'FirstOccurrence': 1341411978,\n",
       "   'LastOccurrence': 1341412077,\n",
       "   'RowSerial': 12469},\n",
       "  {'Identifier': 'ProfilerEnableToggle@NCOMS:sol9-build1',\n",
       "   'Serial': 12468,\n",
       "   'Node': 'sol9-build1',\n",
       "   'NodeAlias': '',\n",
       "   'AlertKey': '',\n",
       "   'Severity': 0,\n",
       "   'Summary': 'ObjectServer NCOMS Profiler enabled at Wed Jul 04 15:27:56 2012',\n",
       "   'StateChange': 1341412077,\n",
       "   'FirstOccurrence': 1341411976,\n",
       "   'LastOccurrence': 1341412076,\n",
       "   'RowSerial': 12468},\n",
       "  {'Identifier': 'Shutdown@sol9-build1', 'RowSerial': 12519}],\n",
       " 'affectedRows': 13}"
      ]
     },
     "execution_count": 15,
     "metadata": {},
     "output_type": "execute_result"
    }
   ],
   "source": [
    "json_payload['rowset']"
   ]
  },
  {
   "cell_type": "code",
   "execution_count": 16,
   "id": "a5ff9406",
   "metadata": {},
   "outputs": [
    {
     "data": {
      "text/plain": [
       "dict_keys(['osname', 'dbname', 'tblname', 'coldesc', 'rows', 'affectedRows'])"
      ]
     },
     "execution_count": 16,
     "metadata": {},
     "output_type": "execute_result"
    }
   ],
   "source": [
    "json_payload['rowset'].keys()"
   ]
  },
  {
   "cell_type": "code",
   "execution_count": 17,
   "id": "630abf03",
   "metadata": {},
   "outputs": [
    {
     "data": {
      "text/plain": [
       "[{'name': 'Identifier', 'type': 'string', 'size': 255},\n",
       " {'name': 'Serial', 'type': 'integer', 'size': 4},\n",
       " {'name': 'Node', 'type': 'string', 'size': 64},\n",
       " {'name': 'NodeAlias', 'type': 'string', 'size': 64},\n",
       " {'name': 'AlertKey', 'type': 'string', 'size': 255},\n",
       " {'name': 'Severity', 'type': 'integer', 'size': 4},\n",
       " {'name': 'Summary', 'type': 'string', 'size': 255},\n",
       " {'name': 'StateChange', 'type': 'utc', 'size': 4},\n",
       " {'name': 'FirstOccurrence', 'type': 'utc', 'size': 4},\n",
       " {'name': 'LastOccurrence', 'type': 'utc', 'size': 4},\n",
       " {'name': 'RowSerial', 'type': 'integer', 'size': 4}]"
      ]
     },
     "execution_count": 17,
     "metadata": {},
     "output_type": "execute_result"
    }
   ],
   "source": [
    "json_payload['rowset']['coldesc']"
   ]
  },
  {
   "cell_type": "code",
   "execution_count": 18,
   "id": "a0f6fc92",
   "metadata": {},
   "outputs": [],
   "source": [
    "coldescdata = pd.DataFrame(json_payload['rowset']['coldesc'])"
   ]
  },
  {
   "cell_type": "code",
   "execution_count": 19,
   "id": "d9940e09",
   "metadata": {},
   "outputs": [
    {
     "data": {
      "text/html": [
       "<div>\n",
       "<style scoped>\n",
       "    .dataframe tbody tr th:only-of-type {\n",
       "        vertical-align: middle;\n",
       "    }\n",
       "\n",
       "    .dataframe tbody tr th {\n",
       "        vertical-align: top;\n",
       "    }\n",
       "\n",
       "    .dataframe thead th {\n",
       "        text-align: right;\n",
       "    }\n",
       "</style>\n",
       "<table border=\"1\" class=\"dataframe\">\n",
       "  <thead>\n",
       "    <tr style=\"text-align: right;\">\n",
       "      <th></th>\n",
       "      <th>name</th>\n",
       "      <th>type</th>\n",
       "      <th>size</th>\n",
       "    </tr>\n",
       "  </thead>\n",
       "  <tbody>\n",
       "    <tr>\n",
       "      <th>0</th>\n",
       "      <td>Identifier</td>\n",
       "      <td>string</td>\n",
       "      <td>255</td>\n",
       "    </tr>\n",
       "    <tr>\n",
       "      <th>1</th>\n",
       "      <td>Serial</td>\n",
       "      <td>integer</td>\n",
       "      <td>4</td>\n",
       "    </tr>\n",
       "    <tr>\n",
       "      <th>2</th>\n",
       "      <td>Node</td>\n",
       "      <td>string</td>\n",
       "      <td>64</td>\n",
       "    </tr>\n",
       "    <tr>\n",
       "      <th>3</th>\n",
       "      <td>NodeAlias</td>\n",
       "      <td>string</td>\n",
       "      <td>64</td>\n",
       "    </tr>\n",
       "    <tr>\n",
       "      <th>4</th>\n",
       "      <td>AlertKey</td>\n",
       "      <td>string</td>\n",
       "      <td>255</td>\n",
       "    </tr>\n",
       "    <tr>\n",
       "      <th>5</th>\n",
       "      <td>Severity</td>\n",
       "      <td>integer</td>\n",
       "      <td>4</td>\n",
       "    </tr>\n",
       "    <tr>\n",
       "      <th>6</th>\n",
       "      <td>Summary</td>\n",
       "      <td>string</td>\n",
       "      <td>255</td>\n",
       "    </tr>\n",
       "    <tr>\n",
       "      <th>7</th>\n",
       "      <td>StateChange</td>\n",
       "      <td>utc</td>\n",
       "      <td>4</td>\n",
       "    </tr>\n",
       "    <tr>\n",
       "      <th>8</th>\n",
       "      <td>FirstOccurrence</td>\n",
       "      <td>utc</td>\n",
       "      <td>4</td>\n",
       "    </tr>\n",
       "    <tr>\n",
       "      <th>9</th>\n",
       "      <td>LastOccurrence</td>\n",
       "      <td>utc</td>\n",
       "      <td>4</td>\n",
       "    </tr>\n",
       "    <tr>\n",
       "      <th>10</th>\n",
       "      <td>RowSerial</td>\n",
       "      <td>integer</td>\n",
       "      <td>4</td>\n",
       "    </tr>\n",
       "  </tbody>\n",
       "</table>\n",
       "</div>"
      ],
      "text/plain": [
       "               name     type  size\n",
       "0        Identifier   string   255\n",
       "1            Serial  integer     4\n",
       "2              Node   string    64\n",
       "3         NodeAlias   string    64\n",
       "4          AlertKey   string   255\n",
       "5          Severity  integer     4\n",
       "6           Summary   string   255\n",
       "7       StateChange      utc     4\n",
       "8   FirstOccurrence      utc     4\n",
       "9    LastOccurrence      utc     4\n",
       "10        RowSerial  integer     4"
      ]
     },
     "execution_count": 19,
     "metadata": {},
     "output_type": "execute_result"
    }
   ],
   "source": [
    "coldescdata"
   ]
  },
  {
   "cell_type": "markdown",
   "id": "1de0ed7b",
   "metadata": {},
   "source": [
    "# 2. How can you convert a dictionary to Pandas DataFrame?"
   ]
  },
  {
   "cell_type": "code",
   "execution_count": 20,
   "id": "37aa1513",
   "metadata": {},
   "outputs": [],
   "source": [
    "name= [\"Nike\", \"Ola\"]\n",
    "level= [\"4\", \"5\"]\n",
    "year= [\"2000\", \"2019\"]\n",
    "Sex= [\"F\", \"M\"]\n",
    "Age= [\"29\", \"32\"]\n",
    "Employee= {'name': name, 'Level': level, 'Year': year, 'Sex': Sex, 'Age': Age}\n",
    "Employee_df= pd.DataFrame(Employee)"
   ]
  },
  {
   "cell_type": "code",
   "execution_count": 21,
   "id": "4535def2",
   "metadata": {},
   "outputs": [
    {
     "data": {
      "text/html": [
       "<div>\n",
       "<style scoped>\n",
       "    .dataframe tbody tr th:only-of-type {\n",
       "        vertical-align: middle;\n",
       "    }\n",
       "\n",
       "    .dataframe tbody tr th {\n",
       "        vertical-align: top;\n",
       "    }\n",
       "\n",
       "    .dataframe thead th {\n",
       "        text-align: right;\n",
       "    }\n",
       "</style>\n",
       "<table border=\"1\" class=\"dataframe\">\n",
       "  <thead>\n",
       "    <tr style=\"text-align: right;\">\n",
       "      <th></th>\n",
       "      <th>name</th>\n",
       "      <th>Level</th>\n",
       "      <th>Year</th>\n",
       "      <th>Sex</th>\n",
       "      <th>Age</th>\n",
       "    </tr>\n",
       "  </thead>\n",
       "  <tbody>\n",
       "    <tr>\n",
       "      <th>0</th>\n",
       "      <td>Nike</td>\n",
       "      <td>4</td>\n",
       "      <td>2000</td>\n",
       "      <td>F</td>\n",
       "      <td>29</td>\n",
       "    </tr>\n",
       "    <tr>\n",
       "      <th>1</th>\n",
       "      <td>Ola</td>\n",
       "      <td>5</td>\n",
       "      <td>2019</td>\n",
       "      <td>M</td>\n",
       "      <td>32</td>\n",
       "    </tr>\n",
       "  </tbody>\n",
       "</table>\n",
       "</div>"
      ],
      "text/plain": [
       "   name Level  Year Sex Age\n",
       "0  Nike     4  2000   F  29\n",
       "1   Ola     5  2019   M  32"
      ]
     },
     "execution_count": 21,
     "metadata": {},
     "output_type": "execute_result"
    }
   ],
   "source": [
    "Employee_df"
   ]
  },
  {
   "cell_type": "code",
   "execution_count": null,
   "id": "87d5b8b0",
   "metadata": {},
   "outputs": [],
   "source": []
  }
 ],
 "metadata": {
  "kernelspec": {
   "display_name": "Python 3 (ipykernel)",
   "language": "python",
   "name": "python3"
  },
  "language_info": {
   "codemirror_mode": {
    "name": "ipython",
    "version": 3
   },
   "file_extension": ".py",
   "mimetype": "text/x-python",
   "name": "python",
   "nbconvert_exporter": "python",
   "pygments_lexer": "ipython3",
   "version": "3.10.9"
  }
 },
 "nbformat": 4,
 "nbformat_minor": 5
}
