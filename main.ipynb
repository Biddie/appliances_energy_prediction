{
 "cells": [
  {
   "cell_type": "markdown",
   "id": "7ed79422",
   "metadata": {},
   "source": [
    "# Main Entrypoint"
   ]
  },
  {
   "cell_type": "code",
   "execution_count": 3,
   "id": "c4c4983b",
   "metadata": {},
   "outputs": [],
   "source": [
    "from parameters.parameters import energy_file_path, insurance_file_path\n",
    "from data_ingestion.ingest import get_data\n",
    "import time"
   ]
  },
  {
   "cell_type": "markdown",
   "id": "e8850b36",
   "metadata": {},
   "source": [
    "# Data Ingestion\n"
   ]
  },
  {
   "cell_type": "code",
   "execution_count": 4,
   "id": "93f96ae0",
   "metadata": {},
   "outputs": [
    {
     "name": "stdout",
     "output_type": "stream",
     "text": [
      "Starting Data Ingestion\n",
      "Starting Energy Data...\n",
      "Execution for Appliance Energy Data Ingestion is 0.0903010368347168 seconds\n"
     ]
    },
    {
     "ename": "AttributeError",
     "evalue": "'NoneType' object has no attribute 'shape'",
     "output_type": "error",
     "traceback": [
      "\u001b[0;31m---------------------------------------------------------------------------\u001b[0m",
      "\u001b[0;31mAttributeError\u001b[0m                            Traceback (most recent call last)",
      "Cell \u001b[0;32mIn[4], line 7\u001b[0m\n\u001b[1;32m      5\u001b[0m end_time \u001b[38;5;241m=\u001b[39m time\u001b[38;5;241m.\u001b[39mtime()\n\u001b[1;32m      6\u001b[0m \u001b[38;5;28mprint\u001b[39m(\u001b[38;5;124mf\u001b[39m\u001b[38;5;124m\"\u001b[39m\u001b[38;5;124mExecution for Appliance Energy Data Ingestion is \u001b[39m\u001b[38;5;132;01m{\u001b[39;00mend_time\u001b[38;5;250m \u001b[39m\u001b[38;5;241m-\u001b[39m\u001b[38;5;250m \u001b[39mstart_time\u001b[38;5;132;01m}\u001b[39;00m\u001b[38;5;124m seconds\u001b[39m\u001b[38;5;124m\"\u001b[39m)\n\u001b[0;32m----> 7\u001b[0m \u001b[38;5;28mprint\u001b[39m(\u001b[38;5;124mf\u001b[39m\u001b[38;5;124m\"\u001b[39m\u001b[38;5;124mSize of Applicance Energy Data is \u001b[39m\u001b[38;5;132;01m{\u001b[39;00mappliance_energy_data\u001b[38;5;241m.\u001b[39mshape\u001b[38;5;132;01m}\u001b[39;00m\u001b[38;5;124m\"\u001b[39m)\n\u001b[1;32m      8\u001b[0m \u001b[38;5;28mprint\u001b[39m(appliance_energy_data\u001b[38;5;241m.\u001b[39mhead())\n",
      "\u001b[0;31mAttributeError\u001b[0m: 'NoneType' object has no attribute 'shape'"
     ]
    }
   ],
   "source": [
    "print(\"Starting Data Ingestion\")\n",
    "print(\"Starting Energy Data...\")\n",
    "start_time = time.time()\n",
    "appliance_energy_data = get_data(energy_file_path)\n",
    "end_time = time.time()\n",
    "print(f\"Execution for Appliance Energy Data Ingestion is {end_time - start_time} seconds\")\n",
    "print(f\"Size of Applicance Energy Data is {appliance_energy_data.shape}\")\n",
    "print(appliance_energy_data.head())"
   ]
  },
  {
   "cell_type": "code",
   "execution_count": null,
   "id": "e9fa2e08",
   "metadata": {},
   "outputs": [],
   "source": []
  }
 ],
 "metadata": {
  "kernelspec": {
   "display_name": "Python 3 (ipykernel)",
   "language": "python",
   "name": "python3"
  },
  "language_info": {
   "codemirror_mode": {
    "name": "ipython",
    "version": 3
   },
   "file_extension": ".py",
   "mimetype": "text/x-python",
   "name": "python",
   "nbconvert_exporter": "python",
   "pygments_lexer": "ipython3",
   "version": "3.10.9"
  }
 },
 "nbformat": 4,
 "nbformat_minor": 5
}
